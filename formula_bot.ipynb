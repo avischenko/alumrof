{
  "nbformat": 4,
  "nbformat_minor": 0,
  "metadata": {
    "colab": {
      "name": "formula_bot.ipynb",
      "provenance": [],
      "collapsed_sections": []
    },
    "kernelspec": {
      "name": "python3",
      "display_name": "Python 3"
    }
  },
  "cells": [
    {
      "cell_type": "code",
      "metadata": {
        "id": "-z5xmm4dMoll"
      },
      "source": [
        "import pandas as pd\r\n",
        "import numpy as np\r\n",
        "import httplib2\r\n",
        "from bs4 import BeautifulSoup\r\n",
        "import requests\r\n",
        "from io import StringIO\r\n",
        "import datetime"
      ],
      "execution_count": 111,
      "outputs": []
    },
    {
      "cell_type": "code",
      "metadata": {
        "id": "fCua4ExaNJad"
      },
      "source": [
        "# Выбор программы обучения\r\n",
        "program = ['management','log', 'gmu', 'economics']\r\n",
        "url = 'https://spb.hse.ru/ba/'+ program[0] + '/'"
      ],
      "execution_count": 112,
      "outputs": []
    },
    {
      "cell_type": "code",
      "metadata": {
        "id": "LG04t8dYTGJS"
      },
      "source": [
        "# Выбор курса и модуля (надо прикрутить учебный год который year=2020)\r\n",
        "now = datetime.datetime.now()\r\n",
        "if int(now.month)<=7:\r\n",
        "  year_edu = now.year-1\r\n",
        "else:\r\n",
        "  year_edu = now.year\r\n",
        "\r\n",
        "course_study = ['1','2','3','4']\r\n",
        "module = ['1','2','3','4']\r\n",
        "\r\n",
        "url = url + 'courses?course=' + course_study[3]+ '.' + module[0] + '.' + course_study[3] + '.' + module[3]+'&page=1&year='+str(year_edu)"
      ],
      "execution_count": 113,
      "outputs": []
    },
    {
      "cell_type": "code",
      "metadata": {
        "id": "brcI1QzCTsNJ"
      },
      "source": [
        "# проверка сервера и получение кода всей страницы для дальнейших манипуляций\r\n",
        "page = requests.get(url)\r\n",
        "soup = BeautifulSoup(page.text, 'lxml')"
      ],
      "execution_count": 114,
      "outputs": []
    },
    {
      "cell_type": "code",
      "metadata": {
        "id": "dRCEQIRETOzq"
      },
      "source": [
        "# Парсинг всех страниц\r\n",
        "pages = soup.find_all(class_='pages__page')\r\n",
        "pages_links = []\r\n",
        "for i in range(1, len(pages)):\r\n",
        "    pages_links.append(str(soup.find_all(class_='pages__page')[i]).replace('<a class=\"pages__page\" href=','').split(\">\")[0].replace('\"',''))"
      ],
      "execution_count": 115,
      "outputs": []
    },
    {
      "cell_type": "code",
      "metadata": {
        "id": "gP4-skZcTPh3"
      },
      "source": [
        "# Парсинг названий курсов и ссылки на них\r\n",
        "courses_names=[]\r\n",
        "courses_links=[]\r\n",
        "courses = soup.find_all(class_='link link_dark')\r\n",
        "for i in range(len(courses)):\r\n",
        "    courses_names.append(str(soup.find_all(class_='link link_dark')[i].getText()))\r\n",
        "    courses_links.append(str(soup.find_all(class_='link link_dark')[i]).replace('<a class=\"link link_dark\" href=','>'))\r\n",
        "    if (i == (len(courses)-1)) and (len(pages_links)>0):\r\n",
        "        for j in range(len(pages_links)):\r\n",
        "            page = requests.get(pages_links[j])\r\n",
        "            soup = BeautifulSoup(page.text, 'lxml')\r\n",
        "            courses = soup.find_all(class_='link link_dark')\r\n",
        "            for k in range(len(courses)):\r\n",
        "                        courses_names.append(str(soup.find_all(class_='link link_dark')[k].getText()))\r\n",
        "                        courses_links.append(str(soup.find_all(class_='link link_dark')[k]).replace('<a class=\"link link_dark\" href=','>'))\r\n",
        "for i in range(len(courses_links)):\r\n",
        "  courses_links[i]=courses_links[i].split(\">\")[1].replace('\"','')"
      ],
      "execution_count": 116,
      "outputs": []
    },
    {
      "cell_type": "code",
      "metadata": {
        "colab": {
          "base_uri": "https://localhost:8080/",
          "height": 35
        },
        "id": "HFdxGCg2bFXf",
        "outputId": "fcc0b793-c1bd-49cf-93f6-b35a3e84571e"
      },
      "source": [
        "# Получаем страницу курса и информацию о нем\r\n",
        "url = courses_links[5]\r\n",
        "page = requests.get(url)\r\n",
        "soup = BeautifulSoup(page.text, 'lxml')\r\n",
        "url"
      ],
      "execution_count": 119,
      "outputs": [
        {
          "output_type": "execute_result",
          "data": {
            "application/vnd.google.colaboratory.intrinsic+json": {
              "type": "string"
            },
            "text/plain": [
              "'https://spb.hse.ru/ba/management/courses/376727214.html'"
            ]
          },
          "metadata": {
            "tags": []
          },
          "execution_count": 119
        }
      ]
    },
    {
      "cell_type": "code",
      "metadata": {
        "id": "rj9utCgNWTrp"
      },
      "source": [
        "# Получаем формулу оценки, преобразуем и разделяяем коэффициенты\r\n",
        "# c https://spb.hse.ru/ba/management/courses/375310631.html не работает\r\n",
        "checkon = soup.find_all(class_='grey i')\r\n",
        "if len(checkon)<1:\r\n",
        "  print('Sorry, no information about the grades :(')\r\n",
        "else:\r\n",
        "  formula = str(soup.find_all(class_='grey i')[-1].getText())\r\n",
        "  StringData = StringIO(formula)\r\n",
        "  grades = pd.read_csv(StringData, sep =\"+\", header=None)\r\n",
        "  numb=0\r\n",
        "  activity=[]\r\n",
        "  for col in grades:\r\n",
        "     activity.append(str(grades.iloc[0][numb].split('*')[-1]))\r\n",
        "     grades.iloc[0][numb]= (grades.iloc[0][numb].split('*')[0])\r\n",
        "     numb+=1\r\n",
        "  grades.columns=activity\r\n",
        "  grades.rename(index={0:'Coefficients'}, inplace=True)\r\n",
        "grades\r\n",
        "grades.to_excel('/testing.xlsx')"
      ],
      "execution_count": 126,
      "outputs": []
    },
    {
      "cell_type": "code",
      "metadata": {
        "id": "ZYBXpN2Jg15s"
      },
      "source": [
        ""
      ],
      "execution_count": null,
      "outputs": []
    }
  ]
}